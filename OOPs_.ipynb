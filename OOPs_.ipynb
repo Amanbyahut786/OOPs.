{
  "nbformat": 4,
  "nbformat_minor": 0,
  "metadata": {
    "colab": {
      "private_outputs": true,
      "provenance": []
    },
    "kernelspec": {
      "name": "python3",
      "display_name": "Python 3"
    },
    "language_info": {
      "name": "python"
    }
  },
  "cells": [
    {
      "cell_type": "code",
      "execution_count": null,
      "metadata": {
        "id": "CVFoD-JqHJwi"
      },
      "outputs": [],
      "source": []
    },
    {
      "cell_type": "markdown",
      "source": [
        "# Python OOPs Questions"
      ],
      "metadata": {
        "id": "YZe_kVyDJHZa"
      }
    },
    {
      "cell_type": "markdown",
      "source": [
        " Ques.1 What is Object-Oriented Programming (OOP) ?\n",
        "\n",
        " Ans.\n",
        "     Object-Oriented Programming (OOP) is a programming paradigm based on the concept of \"objects\", which can contain data and code: data in the form of fields (often known as attributes or properties), and code, in the form of procedures (often known as methods). OOP is a way to structure a program by bundling related properties and behaviors into individual objects. This approach helps to manage complexity and promote code reusability and maintainability.\n",
        "\n"
      ],
      "metadata": {
        "id": "vu5PNFmJJTTU"
      }
    },
    {
      "cell_type": "markdown",
      "source": [
        " Ques.2 What is a class in OOP ?\n",
        "\n",
        " Ans.\n",
        "     In Object-Oriented Programming (OOP), a class is a blueprint or a template for creating objects. It defines the properties (attributes) and behaviors (methods) that objects of that class will have. Think of it like a cookie cutter – the cookie cutter itself isn't a cookie, but you can use it to create many cookies that all have the same shape and design. Similarly, a class isn't an object, but you use it to create many objects with the same structure and behavior.\n",
        "\n"
      ],
      "metadata": {
        "id": "ZHav3V_nKTsT"
      }
    },
    {
      "cell_type": "markdown",
      "source": [
        "Ques.3 What is an object in OOP?\n",
        "\n",
        "Ans. In Object-Oriented Programming (OOP), an object is an instance of a class. It's a concrete entity that is created based on the blueprint provided by the class. Objects have the properties (attributes) and behaviors (methods) defined by their class. You can think of objects as the actual cookies created from the cookie cutter (the class). Each cookie is an individual object with the characteristics defined by the cutter."
      ],
      "metadata": {
        "id": "T_kggLbkLFjt"
      }
    },
    {
      "cell_type": "markdown",
      "source": [
        "Ques.4 What is the difference between abstraction and encapsulation ?\n",
        "\n",
        "Ans.\n",
        "\n",
        "  *  Abstraction focuses on hiding complex implementation details and showing only the essential features of an object. It's about \"what\" an object does rather than \"how\" it does it. Think of a car's steering wheel: you know how to use it to turn the car, but you don't need to know the intricate mechanics inside the steering column. Abstraction simplifies the view of an object.\n",
        "\n",
        "* Encapsulation, on the other hand, is the bundling of data (attributes) and the methods (behaviors) that operate on the data into a single unit (the object). It's about protecting the data from external access and modification, ensuring that the data can only be accessed or changed through the object's methods. This prevents accidental or unauthorized changes to the data. Think of a capsule containing medicine: the medicine is enclosed within the capsule, and you interact with the medicine by taking the capsule. Encapsulation is about data protection and organization.\n",
        "\n",
        "  In essence:\n",
        "\n",
        "* Abstraction: Hides complexity, shows essentials.\n",
        "Encapsulation: Bundles data and methods, protects data.\n",
        "They often work together. Abstraction helps you design the interface of an object (what it does), while encapsulation helps you implement that interface by bundling the data and methods together and controlling access to the data."
      ],
      "metadata": {
        "id": "XgoKVL9gLqR4"
      }
    },
    {
      "cell_type": "markdown",
      "source": [
        "Ques.5  What are dunder methods in Python ?"
      ],
      "metadata": {
        "id": "Xv5-MlG_Mjhn"
      }
    },
    {
      "cell_type": "markdown",
      "metadata": {
        "id": "e917d6d4"
      },
      "source": [
        "Ans.\n",
        "\n",
        "* In Python, \"dunder methods\" are special methods that have double underscores at the beginning and end of their names\n",
        "(e.g., `__init__`, `__str__`, `__add__`). The term \"dunder\" is a shorthand for \"double underscore\". These methods are also sometimes referred to as \"magic methods\" or \"special methods\".\n",
        "\n",
        "* Dunder methods are not meant to be called directly by the programmer in most cases. Instead, they are invoked by Python internally in response to certain operations or situations. They allow you to define how objects of your class behave with built-in operations and functions.\n"
      ]
    },
    {
      "cell_type": "markdown",
      "source": [
        "Ques.6 Explain the concept of inheritance in OOP ?"
      ],
      "metadata": {
        "id": "pTRomqipOUpD"
      }
    },
    {
      "cell_type": "markdown",
      "metadata": {
        "id": "3678c1c5"
      },
      "source": [
        "Ans.\n",
        "* In Object-Oriented Programming (OOP), **inheritance** is a mechanism that allows a new class (called the **subclass** or **derived class**) to inherit properties (attributes) and behaviors (methods) from an existing class (called the **superclass**, **base class**, or **parent class**).\n",
        "\n",
        "* Think of it like family genetics: a child inherits certain traits from their parents. Similarly, a subclass inherits characteristics from its superclass. This promotes **code reusability** because you don't have to rewrite the same code in every class. Instead, you can define common attributes and methods in a superclass and have other classes inherit them.\n",
        "\n",
        " * the key concepts related to inheritance:\n",
        "\n",
        "*   **Superclass (Parent Class):** The class whose properties and behaviors are inherited.\n",
        "*   **Subclass (Child Class):** The class that inherits properties and behaviors from the superclass.\n",
        "*   **\"is-a\" relationship:** Inheritance represents an \"is-a\" relationship. For example, a `Dog` \"is a\" type of `Animal`, so `Dog` can inherit from `Animal`.\n",
        "*   **Method Overriding:** A subclass can provide its own implementation of a method that is already defined in its superclass. This allows the subclass to have specific behavior while still inheriting the general behavior from the superclass.\n",
        "*   **Method Overloading (not directly supported in Python in the same way as some other languages, but similar effects can be achieved):** Defining multiple methods with the same name but different parameters.\n",
        "\n",
        "* **Benefits of Inheritance:**\n",
        "\n",
        "*   **Code Reusability:** Avoids writing the same code multiple times.\n",
        "*   **Maintainability:** Changes in the superclass are automatically reflected in the subclasses (unless overridden).\n",
        "*   **Extensibility:** New features can be added by creating new subclasses without modifying existing code.\n",
        "*   **Polymorphism:** Objects of different classes can be treated as objects of a common superclass, allowing for more flexible and generic code.\n",
        "\n",
        "* **Example (Conceptual):**"
      ]
    },
    {
      "cell_type": "markdown",
      "source": [
        "Ques 7  What is polymorphism in OOP ?"
      ],
      "metadata": {
        "id": "a0ueWJioPRRU"
      }
    },
    {
      "cell_type": "markdown",
      "metadata": {
        "id": "a267d52f"
      },
      "source": [
        "Ans.\n",
        "* In Object-Oriented Programming (OOP), **polymorphism** means \"many forms\". It refers to the ability of different objects to respond to the same method call in their own way. This means you can treat objects of different classes in a uniform way, even though they might have different underlying implementations.\n",
        "\n",
        "* Think of a \"play\" method. A `Dog` object might implement `play()` by fetching a ball, while a `Cat` object might implement `play()` by chasing a laser pointer, and a `Bird` object might implement `play()` by singing. If you have a list of `Animal` objects (which could be dogs, cats, or birds), you can call the `play()` method on each object without needing to know the specific type of animal. Each object will execute its own version of the `play()` method.\n",
        "\n",
        "*  the key aspects of polymorphism:\n",
        "\n",
        "*   **Method Overriding:** As mentioned in the context of inheritance, subclasses can provide their own implementation of methods defined in their superclass. This is a key way to achieve polymorphism.\n",
        "*   **Method Overloading (less common in Python, but the concept applies):** Defining multiple methods with the same name but different parameters. The correct method is called based on the number and types of arguments provided.\n",
        "*   **Duck Typing (Pythonic polymorphism):** In Python, polymorphism is often achieved through \"duck typing\". This means that if an object \"walks like a duck and quacks like a duck,\" then it's treated as a duck, regardless of its actual class. If an object has the method you need, you can call it, and it will work, even if the object is of a completely different class than you might expect.\n",
        "\n",
        "* **Benefits of Polymorphism:**\n",
        "\n",
        "*   **Flexibility:** You can write code that works with objects of different types without needing to know their specific classes.\n",
        "*   **Code Reusability:** You can use the same method call on different objects, simplifying your code.\n",
        "*   **Extensibility:** You can add new classes with their own implementations of methods, and your existing polymorphic code will work with them automatically.\n",
        "\n",
        "* Polymorphism is a powerful concept that allows for more flexible, reusable, and maintainable code in OOP.\n",
        "\n"
      ]
    },
    {
      "cell_type": "markdown",
      "source": [
        "Ques.8   How is encapsulation achieved in Python ?\n",
        "\n",
        "Ans.\n",
        "     \n",
        "     "
      ],
      "metadata": {
        "id": "HIGze3bGQIrG"
      }
    },
    {
      "cell_type": "markdown",
      "metadata": {
        "id": "a0e58f10"
      },
      "source": [
        "Ans.\n",
        "\n",
        "* In Python, encapsulation is typically achieved through conventions and name mangling rather than strict access modifiers like `public`, `private`, or `protected` found in some other object-oriented languages (like Java or C++). Python's philosophy is that \"we are all consenting adults,\" meaning it trusts developers not to directly access or modify internal details unless necessary.\n",
        "\n",
        "* Here's how encapsulation is commonly practiced and the mechanisms Python provides:\n",
        "\n",
        "1.  **Bundling Data and Methods:** The primary way encapsulation is achieved is by simply defining attributes (data) and methods (behaviors) within a class."
      ]
    },
    {
      "cell_type": "markdown",
      "source": [],
      "metadata": {
        "id": "fMT31MjjRRNT"
      }
    },
    {
      "cell_type": "code",
      "metadata": {
        "id": "685ceaa6"
      },
      "source": [
        "    class MyClass:\n",
        "        def __init__(self, value):\n",
        "            self._internal_attribute = value # Conventionally protected\n",
        "\n",
        "        def _internal_method(self):\n",
        "            print(\"This is an internal method\")\n",
        "\n",
        "        def public_method(self):\n",
        "            self._internal_method() # Accessing internal method within the class\n",
        "            print(f\"Internal attribute is: {self._internal_attribute}\")"
      ],
      "execution_count": null,
      "outputs": []
    },
    {
      "cell_type": "code",
      "metadata": {
        "id": "4cb1d8cb"
      },
      "source": [
        "    class MyClass:\n",
        "        def __init__(self, value):\n",
        "            self.__private_attribute = value # Name mangled\n",
        "\n",
        "        def __private_method(self):\n",
        "            print(\"This is a private method\")\n",
        "\n",
        "        def public_method(self):\n",
        "            self.__private_method() # Accessing private method within the class\n",
        "            print(f\"Private attribute is: {self.__private_attribute}\")\n",
        "\n",
        "    # From outside the class:\n",
        "    obj = MyClass(10)\n",
        "    # print(obj.__private_attribute) # This will raise an AttributeError\n",
        "    # obj.__private_method() # This will raise an AttributeError\n",
        "\n",
        "    # You can still access it using the mangled name (not recommended):\n",
        "    # print(obj._MyClass__private_attribute)"
      ],
      "execution_count": null,
      "outputs": []
    },
    {
      "cell_type": "markdown",
      "source": [
        "Ques.9 What is a constructor in Python ?\n",
        "\n",
        "Ans.\n",
        "    "
      ],
      "metadata": {
        "id": "dV3s2IPYRS4E"
      }
    },
    {
      "cell_type": "markdown",
      "metadata": {
        "id": "4b163701"
      },
      "source": [
        "Ans.\n",
        "\n",
        "* In Python, a **constructor** is a special method within a class that is automatically called when an object of that class is created (instantiated). Its primary purpose is to initialize the attributes (data) of the newly created object.\n",
        "\n",
        "* The constructor method in Python is always named `__init__`. The double underscores at the beginning and end indicate that it's a special method (a \"dunder\" method).\n",
        "\n",
        "* Here's the basic syntax of a constructor:"
      ]
    },
    {
      "cell_type": "code",
      "metadata": {
        "id": "c7006c9c"
      },
      "source": [
        "class Dog:\n",
        "    def __init__(self, name, breed):\n",
        "        self.name = name\n",
        "        self.breed = breed\n",
        "        self.tricks = [] # Initialize an empty list for tricks\n",
        "\n",
        "    def add_trick(self, trick):\n",
        "        self.tricks.append(trick)\n",
        "\n",
        "# Creating a Dog object (this calls the __init__ method)\n",
        "my_dog = Dog(\"Buddy\", \"Golden Retriever\")\n",
        "\n",
        "print(my_dog.name)\n",
        "print(my_dog.breed)\n",
        "print(my_dog.tricks)\n",
        "\n",
        "my_dog.add_trick(\"fetch\")\n",
        "print(my_dog.tricks)"
      ],
      "execution_count": null,
      "outputs": []
    },
    {
      "cell_type": "markdown",
      "source": [
        "Ques. 10  What are class and static methods in Python ?\n",
        "\n",
        " Ans.\n",
        "\n",
        "     "
      ],
      "metadata": {
        "id": "zH2TtKCXSIfQ"
      }
    },
    {
      "cell_type": "markdown",
      "metadata": {
        "id": "419bbd98"
      },
      "source": [
        "Ans.\n",
        "\n",
        "* In Python, class methods and static methods are types of methods that are defined within a class but behave differently from regular instance methods. They are distinguished by their decorators: `@classmethod` and `@staticmethod`.\n",
        "\n",
        "* Here's a breakdown of each:\n",
        "\n",
        "* **1. Instance Methods:**\n",
        "\n",
        "*   These are the most common type of methods in a class.\n",
        "*   They operate on an instance of the class.\n",
        "*   Their first parameter is conventionally `self`, which refers to the instance of the class.\n",
        "*   They can access and modify instance attributes and call other instance methods.\n",
        "\n",
        "* **Example of an Instance Method:**"
      ]
    },
    {
      "cell_type": "code",
      "metadata": {
        "id": "3a32679a"
      },
      "source": [
        "class MyClass:\n",
        "    class_attribute = \"I am a class attribute\"\n",
        "\n",
        "    @classmethod\n",
        "    def class_method(cls):\n",
        "        print(f\"This is a class method accessing class_attribute: {cls.class_attribute}\")\n",
        "\n",
        "MyClass.class_method() # Called on the class"
      ],
      "execution_count": null,
      "outputs": []
    },
    {
      "cell_type": "code",
      "metadata": {
        "id": "1232d97b"
      },
      "source": [
        "class MyClass:\n",
        "    @staticmethod\n",
        "    def static_method(x, y):\n",
        "        return x + y\n",
        "\n",
        "print(MyClass.static_method(5, 3)) # Called on the class or an instance"
      ],
      "execution_count": null,
      "outputs": []
    },
    {
      "cell_type": "markdown",
      "source": [
        "Ques.11 What is method overloading in Python ?"
      ],
      "metadata": {
        "id": "oRbIpwLgS4Os"
      }
    },
    {
      "cell_type": "markdown",
      "metadata": {
        "id": "0b159044"
      },
      "source": [
        "Ans.\n",
        "* Method overloading is a concept in some programming languages where multiple methods within the same class can have the same name but different parameters (either in the number of parameters or their types). The correct method to be executed is determined by the number and/or type of arguments passed during the method call.\n",
        "\n",
        "\n",
        " * **Python does not support method overloading in the traditional sense**, like languages such as Java or C++. If you define multiple methods with the same name in a Python class, the later definition will simply overwrite the earlier ones.\n",
        "\n",
        "* While we cannot have true method overloading with different parameter lists having the same method name, you can achieve similar effects in Python using a few techniques:\n",
        "\n",
        "1.  **Using Default Parameter Values:** You can define a method with default values for some parameters. This allows you to call the method with fewer arguments, making it behave somewhat like an overloaded method.\n",
        "2.  **Using Variable-Length Arguments (`*args` and `**kwargs`):** You can use `*args` to accept a variable number of positional arguments and `**kwargs` to accept a variable number of keyword arguments. Inside the method, you can then check the number and types of arguments passed and perform different actions accordingly.\n",
        "3.  **Using `functools.singledispatch` (for function overloading based on type):** This decorator allows you to register different functions for different types of the first argument. While not strictly method overloading within a class, it provides a way to achieve similar dispatch based on type.\n",
        "\n",
        "* **Example using Default Parameter Values:**"
      ]
    },
    {
      "cell_type": "code",
      "metadata": {
        "id": "051447cd"
      },
      "source": [
        "class MyClass:\n",
        "    def my_method(self, *args):\n",
        "        if len(args) == 1:\n",
        "            print(f\"Called with one argument: {args[0]}\")\n",
        "        elif len(args) == 2:\n",
        "            print(f\"Called with two arguments: {args[0]} and {args[1]}\")\n",
        "        else:\n",
        "            print(\"Called with a different number of arguments\")\n",
        "\n",
        "obj = MyClass()\n",
        "obj.my_method(10)\n",
        "obj.my_method(10, 20)\n",
        "obj.my_method(1, 2, 3)"
      ],
      "execution_count": null,
      "outputs": []
    },
    {
      "cell_type": "markdown",
      "source": [
        "Ques.12 What is method overriding in OOP ?"
      ],
      "metadata": {
        "id": "o9bHNb25TzNs"
      }
    },
    {
      "cell_type": "markdown",
      "metadata": {
        "id": "2c980ac4"
      },
      "source": [
        "Ans.\n",
        "* In Object-Oriented Programming (OOP), **method overriding** is a feature that allows a subclass to provide a specific implementation for a method that is already defined in its superclass. When a method is called on an object, the specific implementation executed depends on the type of the object.\n",
        "\n",
        "Here's how it works:\n",
        "\n",
        "1.  **Superclass Method:** A method is defined in the superclass (parent class).\n",
        "2.  **Subclass Method:** A method with the same name and the same number and type of parameters (signature) is defined in the subclass (child class).\n",
        "3.  **Overriding:** The implementation of the method in the subclass overrides the implementation in the superclass for objects of the subclass type.\n",
        "\n",
        "* When we call an overridden method on an object of the subclass, the version of the method in the subclass is executed, not the version in the superclass.\n",
        "\n",
        "* **Key Points about Method Overriding:**\n",
        "\n",
        "*   **Same Method Signature:** The overriding method in the subclass must have the same name, return type (though Python is dynamically typed, so this is less strict than in some other languages), and parameters as the method in the superclass.\n",
        "*   **\"Is-a\" Relationship:** Method overriding is typically used in the context of inheritance, where there is an \"is-a\" relationship between the subclass and the superclass.\n",
        "*   **Polymorphism:** Method overriding is a key mechanism for achieving polymorphism. It allows you to treat objects of different subclasses uniformly through a superclass reference, and the appropriate overridden method will be called based on the actual object type at runtime.\n",
        "\n"
      ]
    },
    {
      "cell_type": "markdown",
      "source": [
        "Ques.13 What is a property decorator in Python ?"
      ],
      "metadata": {
        "id": "aIt3XvqKUndf"
      }
    },
    {
      "cell_type": "markdown",
      "metadata": {
        "id": "8e280555"
      },
      "source": [
        "Ans.\n",
        "\n",
        "* In Python, the `@property` decorator is a built-in decorator that is used to provide a way to access class methods as if they were attributes. It's a Pythonic way to define \"getters\" and \"setters\" for attributes, providing a cleaner and more controlled way to interact with an object's data.\n",
        "\n",
        "* Here's how it works:\n",
        "\n",
        "*   **`@property`:** When you apply the `@property` decorator to a method, it allows you to access that method like an attribute without using parentheses. This method is typically the \"getter\" method, responsible for retrieving the value of an attribute.\n",
        "*   **`@<method_name>.setter`:** This decorator is used to define the \"setter\" method for the property. It's applied to a method with the same name as the property method. This method is responsible for setting the value of the attribute and can include validation or other logic.\n",
        "*   **`@<method_name>.deleter` (less common):** This decorator is used to define the \"deleter\" method for the property. It's applied to a method with the same name as the property method. This method is responsible for deleting the attribute.\n",
        "\n",
        "* **Why use the `@property` decorator?**\n",
        "\n",
        "*   **Encapsulation:** It helps in achieving encapsulation by providing controlled access to attributes. You can add logic in the getter and setter methods to validate data or perform other actions.\n",
        "*   **Readability:** It makes the code more readable by allowing you to access methods as if they were simple attributes.\n",
        "*   **Flexibility:** You can change the internal implementation of how an attribute is stored or calculated without changing the way it's accessed from outside the class.\n"
      ]
    },
    {
      "cell_type": "markdown",
      "source": [
        "Ques. 14 Why is polymorphism important in OOP ?"
      ],
      "metadata": {
        "id": "dk144VUmVGEx"
      }
    },
    {
      "cell_type": "markdown",
      "metadata": {
        "id": "75a247bc"
      },
      "source": [
        "Ans.\n",
        "\n",
        "* Polymorphism is a fundamental concept in Object-Oriented Programming (OOP) and is important for several key reasons:\n",
        "\n",
        "1.  **Flexibility and Extensibility:** Polymorphism allows you to write code that can work with objects of different classes in a uniform way. This means you can design functions or methods that operate on objects of a superclass, and they will automatically work correctly with objects of any subclass that overrides the relevant methods. This makes your code much more flexible and easier to extend in the future. You can add new subclasses without having to modify the existing code that uses the superclass.\n",
        "\n",
        "2.  **Code Reusability:** With polymorphism, you can write generic code that can be reused for different types of objects. Instead of writing separate functions for each class, you can write one function that takes an object of the superclass type (or an object that adheres to a certain interface/protocol) and relies on the polymorphic behavior of the methods.\n",
        "\n",
        "3.  **Simplified Code:** Polymorphism can lead to simpler and more readable code. Instead of using conditional statements (like `if-elif-else`) to check the type of an object and call the appropriate method, you can simply call the same method on different objects, and the correct implementation will be executed automatically through polymorphism.\n",
        "\n",
        "4.  **Maintainability:** Because polymorphism promotes code reusability and reduces the need for conditional logic based on type, it makes your codebase easier to maintain. Changes to the implementation of a specific subclass's method don't require changes in the code that calls that method polymorphically.\n",
        "\n",
        "5.  **Abstraction:** Polymorphism works hand-in-hand with abstraction. By interacting with objects through a common interface (defined in the superclass or through duck typing), you abstract away the specific implementation details of the subclasses. This allows you to focus on \"what\" the objects do rather than \"how\" they do it.\n",
        "\n",
        "6.  **Improved Design:** Polymorphism encourages better object-oriented design. It promotes the idea of designing classes based on their behaviors rather than just their data. This leads to more modular and well-structured code.\n",
        "\n"
      ]
    },
    {
      "cell_type": "markdown",
      "source": [
        "Ques.15 What is an abstract class in Python?"
      ],
      "metadata": {
        "id": "bSNcLDPHVib5"
      }
    },
    {
      "cell_type": "markdown",
      "metadata": {
        "id": "9836e0c8"
      },
      "source": [
        "Ans.\n",
        "\n",
        "* In Python, an **abstract class** is a class that cannot be instantiated directly. It is designed to be a blueprint for other classes, providing a common interface and potentially some shared implementation. Abstract classes are used to define a set of methods that subclasses must implement. This enforces a certain structure and ensures that all subclasses adhere to a common contract.\n",
        "\n",
        "* Python's `abc` module (Abstract Base Classes) provides the infrastructure for defining abstract classes. You use the `ABC` class as a base class and the `@abstractmethod` decorator to declare abstract methods within the abstract class.\n",
        "\n",
        "* Here are the key characteristics of abstract classes:\n",
        "\n",
        "1.  **Cannot be Instantiated:** You cannot create an object directly from an abstract class. Attempting to do so will result in a `TypeError`.\n",
        "2.  **Contain Abstract Methods:** Abstract classes can have one or more abstract methods. An abstract method is a method declared in the abstract class but does not have an implementation. Subclasses are required to provide implementations for all abstract methods defined in the abstract class.\n",
        "3.  **Can Contain Concrete Methods:** Abstract classes can also contain concrete methods (methods with implementations) and attributes. These can be inherited and used by subclasses.\n",
        "4.  **Enforce Interface:** Abstract classes define an interface that subclasses must follow. This promotes consistency and allows for polymorphic behavior, as objects of different subclasses can be treated uniformly based on the abstract class's interface.\n",
        "\n",
        "* **Why use Abstract Classes?**\n",
        "\n",
        "*   **Define Common Interface:** They define a standard set of methods that all related classes should have, ensuring a consistent interface.\n",
        "*   **Enforce Implementation:** They force subclasses to implement specific methods, preventing incomplete implementations.\n",
        "*   **Promote Polymorphism:** They allow you to write code that works with objects of different subclasses through a common base class reference.\n",
        "*   **Prevent Direct Instantiation:** They prevent the creation of objects from a class that is not meant to be used on its own.\n",
        "\n"
      ]
    },
    {
      "cell_type": "markdown",
      "source": [
        "Ques.16  What are the advantages of OOP ?"
      ],
      "metadata": {
        "id": "GeMuHSEcWIcp"
      }
    },
    {
      "cell_type": "markdown",
      "metadata": {
        "id": "0e568671"
      },
      "source": [
        "Ans.\n",
        "\n",
        "* Object-Oriented Programming (OOP) offers several significant advantages that make it a widely used programming paradigm:\n",
        "\n",
        "1.  **Modularity:** OOP allows you to break down a complex problem into smaller, self-contained objects. Each object represents a distinct entity with its own data and behavior. This modularity makes the code easier to understand, manage, and debug.\n",
        "\n",
        "2.  **Code Reusability:** Through inheritance, you can create new classes that inherit properties and behaviors from existing classes. This eliminates the need to rewrite the same code multiple times, saving development time and effort.\n",
        "\n",
        "3.  **Maintainability:** OOP code is generally easier to maintain. Because objects are self-contained and interactions between them are well-defined, changes made within one object are less likely to affect other parts of the system. This simplifies debugging and updating the codebase.\n",
        "\n",
        "4.  **Flexibility and Extensibility:** Polymorphism allows you to write code that can work with objects of different types in a uniform way. This makes your code more flexible and easier to extend with new features or classes without modifying existing code.\n",
        "\n",
        "5.  **Improved Design:** OOP encourages a more organized and structured approach to software design. By modeling real-world entities as objects, you can create a more intuitive and understandable representation of the problem domain.\n",
        "\n",
        "6.  **Abstraction:** OOP supports abstraction, which allows you to hide complex implementation details and expose only the essential features of an object. This simplifies the user's interaction with the object and reduces complexity.\n",
        "\n",
        "7.  **Easier Debugging:** Due to the modular nature of OOP, isolating and debugging errors becomes easier. You can focus on individual objects or classes to identify and fix issues.\n",
        "\n",
        "8.  **Enhanced Security (through Encapsulation):** Encapsulation helps protect data from unauthorized access and modification by bundling data and methods within an object and controlling access through well-defined interfaces.\n",
        "\n",
        "* These advantages contribute to the development of more robust, scalable, and maintainable software systems, making OOP a powerful paradigm for building complex applications."
      ]
    },
    {
      "cell_type": "markdown",
      "source": [
        "Ques.17 What is the difference between a class variable and an instance variable ?"
      ],
      "metadata": {
        "id": "3vQu2cECWtGA"
      }
    },
    {
      "cell_type": "markdown",
      "metadata": {
        "id": "14ee4a6a"
      },
      "source": [
        "Ans.\n",
        "\n",
        "* In Python, both class variables and instance variables are used to store data within a class, but they differ in how they are defined, where they are stored, and how they are accessed.\n",
        "\n",
        "* Here's a breakdown of the key differences:\n",
        "\n",
        "* **Class Variables:**\n",
        "\n",
        "*   **Definition:** Class variables are defined directly within the class but outside of any methods.\n",
        "*   **Storage:** They are shared among all instances (objects) of the class. There is only one copy of a class variable for the entire class.\n",
        "*   **Access:** They are accessed using the class name or an instance of the class. However, when accessed through an instance, Python first looks for an instance variable with the same name. If it doesn't find one, it then looks for a class variable.\n",
        "*   **Purpose:** Class variables are typically used to store data that is common to all instances of the class, such as constants, configuration settings, or default values.\n",
        "\n"
      ]
    },
    {
      "cell_type": "markdown",
      "metadata": {
        "id": "f61c681a"
      },
      "source": [
        "**Instance Variables:**\n",
        "\n",
        "*   **Definition:** Instance variables are defined within the methods of a class, typically within the `__init__` constructor, using the `self` keyword.\n",
        "*   **Storage:** They are unique to each instance (object) of the class. Each object has its own copy of instance variables.\n",
        "*   **Access:** They are accessed using the instance of the class and the dot operator (e.g., `object.instance_variable`).\n",
        "*   **Purpose:** Instance variables are used to store data that is specific to each individual object, representing the state of that object.\n",
        "\n",
        "**Example of an Instance Variable:**"
      ]
    },
    {
      "cell_type": "code",
      "metadata": {
        "id": "7842652c"
      },
      "source": [
        "class MyClass:\n",
        "    class_variable = \"I am a class variable\"\n",
        "\n",
        "    def __init__(self, instance_value):\n",
        "        self.instance_variable = instance_value # Instance variable\n",
        "\n",
        "# Accessing class variable\n",
        "print(MyClass.class_variable)\n",
        "\n",
        "# Creating instances and accessing instance variables\n",
        "obj1 = MyClass(\"Instance 1 value\")\n",
        "obj2 = MyClass(\"Instance 2 value\")\n",
        "\n",
        "print(obj1.instance_variable)\n",
        "print(obj2.instance_variable)\n",
        "\n",
        "# Accessing class variable through instances (possible, but can be shadowed by instance variable)\n",
        "print(obj1.class_variable)\n",
        "print(obj2.class_variable)\n",
        "\n",
        "# Modifying instance variable (only affects the specific instance)\n",
        "obj1.instance_variable = \"New instance 1 value\"\n",
        "print(obj1.instance_variable)\n",
        "print(obj2.instance_variable)\n",
        "\n",
        "# Modifying class variable (affects all instances that don't have an instance variable with the same name)\n",
        "MyClass.class_variable = \"New class variable value\"\n",
        "print(MyClass.class_variable)\n",
        "print(obj1.class_variable) # This might still show the old value if an instance variable with the same name exists\n",
        "print(obj2.class_variable)"
      ],
      "execution_count": null,
      "outputs": []
    },
    {
      "cell_type": "markdown",
      "source": [
        "Ques.18 What is multiple inheritance in Python ?"
      ],
      "metadata": {
        "id": "sY8F4ox9Xyzt"
      }
    },
    {
      "cell_type": "markdown",
      "metadata": {
        "id": "f8d0142e"
      },
      "source": [
        "Ans.\n",
        "\n",
        "* In Object-Oriented Programming (OOP), **multiple inheritance** is a feature where a class can inherit properties and behaviors from more than one parent class. This means a single subclass can inherit from multiple superclasses, combining their attributes and methods.\n",
        "\n",
        "* Python supports multiple inheritance, allowing a class to be derived from several base classes.\n",
        "\n",
        "* Here's how it works:\n",
        "\n",
        "*   **Syntax:** You define a class that inherits from multiple classes by listing the parent classes within the parentheses after the class name, separated by commas."
      ]
    },
    {
      "cell_type": "code",
      "metadata": {
        "id": "a9e50abb"
      },
      "source": [
        "    class A:\n",
        "        def greet(self):\n",
        "            print(\"Hello from A\")\n",
        "\n",
        "    class B:\n",
        "        def greet(self):\n",
        "            print(\"Hello from B\")\n",
        "\n",
        "    class C(A, B):\n",
        "        pass\n",
        "\n",
        "    class D(B, A):\n",
        "        pass\n",
        "\n",
        "    obj_c = C()\n",
        "    obj_c.greet() # Output depends on MRO\n",
        "\n",
        "    obj_d = D()\n",
        "    obj_d.greet() # Output depends on MRO\n",
        "\n",
        "    print(C.__mro__)\n",
        "    print(D.__mro__)"
      ],
      "execution_count": null,
      "outputs": []
    },
    {
      "cell_type": "markdown",
      "source": [
        "Ques.19 Explain the purpose of ‘’__str__’ and ‘__repr__’ ‘ methods in Python ?"
      ],
      "metadata": {
        "id": "8O552gfRYPwV"
      }
    },
    {
      "cell_type": "markdown",
      "metadata": {
        "id": "668a70af"
      },
      "source": [
        "Ans.\n",
        "\n",
        "* In Python, `__str__` and `__repr__` are special dunder methods that define how an object is represented as a string. While both are used for string representations, they serve slightly different purposes and are aimed at different audiences.\n",
        "\n",
        "* **`__str__(self)`:**\n",
        "\n",
        "*   **Purpose:** This method is intended to return a user-friendly string representation of an object. It's what you would want to show to an end-user.\n",
        "*   **Called by:** It's called by the built-in functions `str()` and `print()`.\n",
        "*   **Goal:** To be readable and informative for a human. It doesn't necessarily need to be unambiguous.\n",
        "\n",
        "* **`__repr__(self)`:**\n",
        "\n",
        "*   **Purpose:** This method is intended to return an unambiguous string representation of an object. It's primarily for developers and should be as helpful as possible for debugging and inspection.\n",
        "*   **Called by:** It's called by the built-in function `repr()` and by the interactive Python interpreter when you simply type the object's name and press Enter.\n",
        "*   **Goal:** To be unambiguous and ideally, if possible, the string should be a valid Python expression that could be used to recreate the object.\n",
        "\n",
        "* **Key Differences:**\n",
        "\n",
        "*   **Audience:** `__str__` is for users, `__repr__` is for developers.\n",
        "*   **Goal:** `__str__` is for readability, `__repr__` is for unambiguous representation and debugging.\n",
        "*   **Default Behavior:** If `__str__` is not defined for a class, Python will use `__repr__` as a fallback if it's defined. If `__repr__` is not defined, the default representation is usually not very informative (e.g., `<__main__.MyClass object at 0x...>`). If only `__str__` is defined, calling `repr()` on the object will still use the default less informative representation. Therefore, it's generally recommended to always define `__repr__` for your custom classes, and define `__str__` if you need a separate user-friendly representation.\n",
        "\n"
      ]
    },
    {
      "cell_type": "markdown",
      "source": [
        "Ques 20 What is the significance of the ‘super()’ function in Python?"
      ],
      "metadata": {
        "id": "0f-u1RWXYvJH"
      }
    },
    {
      "cell_type": "markdown",
      "metadata": {
        "id": "a03f4f46"
      },
      "source": [
        "Ans.\n",
        "\n",
        "* In Python, the `super()` function is used to refer to the parent class (or superclass) of the class it is called from. It provides a way to access methods and attributes of the parent class in a child class (subclass).\n",
        "\n",
        "* The primary significance of `super()` is in enabling proper inheritance and allowing subclasses to extend or modify the behavior of their superclasses without explicitly naming the parent class. This is particularly useful in cases of multiple inheritance and when dealing with the Method Resolution Order (MRO).\n",
        "\n",
        "* Here's why `super()` is important:\n",
        "\n",
        "1.  **Calling Parent Class Methods:** The most common use of `super()` is to call a method from the parent class within the child class. This is often done in the `__init__` method to ensure that the parent class's initialization is performed, but it can be used with any method.\n",
        "\n",
        "2.  **Supporting Multiple Inheritance and MRO:** In multiple inheritance, a class can inherit from multiple parent classes. The Method Resolution Order (MRO) is the order in which Python looks for a method in a hierarchy of classes. `super()` correctly navigates the MRO to find the appropriate method in the parent class(es), even in complex inheritance scenarios. This avoids issues that can arise from explicitly calling parent methods by name, especially in diamond inheritance structures.\n",
        "\n",
        "3.  **Code Maintainability:** Using `super()` makes your code more maintainable. If you change the name of the parent class, you don't need to update the child class's method calls if you used `super()`.\n",
        "\n",
        "4.  **Flexibility:** `super()` allows for more flexible and dynamic inheritance. It works correctly even if the inheritance hierarchy changes.\n",
        "\n",
        "* **Syntax:**\n",
        "\n",
        "* The basic syntax of `super()` is usually without arguments inside a class method:"
      ]
    },
    {
      "cell_type": "markdown",
      "source": [
        "Ques.21 What is the significance of the __del__ method in Python?"
      ],
      "metadata": {
        "id": "EGgmmW4WZqBQ"
      }
    },
    {
      "cell_type": "markdown",
      "metadata": {
        "id": "c21a17eb"
      },
      "source": [
        "Ans.\n",
        "\n",
        "* In Python, the `__del__` method, also known as the **destructor**, is a special method that is called when an object is about to be destroyed or garbage collected. Its primary significance is to allow you to define cleanup actions that should be performed when an object is no longer needed and its memory is being reclaimed.\n",
        "\n",
        "* Here's what you need to know about `__del__`:\n",
        "\n",
        "1.  **Purpose:** The main purpose of `__del__` is to release external resources that the object might be holding. This could include closing file handles, network connections, database connections, or releasing locks.\n",
        "\n",
        "2.  **When it's Called:** `__del__` is not guaranteed to be called immediately when an object is no longer referenced. Python's garbage collector determines when objects are no longer reachable and decides when to reclaim their memory. This means that `__del__` might be called at an unpredictable time, or not at all if the program exits before the garbage collector runs.\n",
        "\n",
        "3.  **Not Always Necessary:** In many cases, you don't need to define a `__del__` method. Python's garbage collector is usually sufficient for managing memory. For resource management, it's often better to use context managers (`with` statement) or explicit cleanup methods, as they provide more deterministic control over resource release.\n",
        "\n",
        "4.  **Potential Issues:** Using `__del__` can sometimes lead to complications, especially in complex object graphs or with circular references. If an object with a `__del__` method is part of a reference cycle, it might not be garbage collected, and `__del__` might never be called.\n",
        "\n",
        "5.  **Syntax:** The `__del__` method takes only one argument, `self`.\n",
        "\n",
        "* **Example:**"
      ]
    },
    {
      "cell_type": "code",
      "metadata": {
        "id": "86af0bd7"
      },
      "source": [
        "class MyResource:\n",
        "    def __init__(self, name):\n",
        "        self.name = name\n",
        "        print(f\"Resource '{self.name}' created.\")\n",
        "\n",
        "    def __del__(self):\n",
        "        print(f\"Resource '{self.name}' is being destroyed.\")\n",
        "\n",
        "# Creating an object\n",
        "obj1 = MyResource(\"File Handler\")\n",
        "\n",
        "# When obj1 is no longer referenced, __del__ might be called\n",
        "del obj1\n",
        "\n",
        "# Creating another object\n",
        "obj2 = MyResource(\"Network Connection\")\n",
        "\n",
        "# Program exit might trigger __del__ for obj2"
      ],
      "execution_count": null,
      "outputs": []
    },
    {
      "cell_type": "markdown",
      "source": [
        "Ques.22 What is the difference between @staticmethod and @classmethod in Python ?"
      ],
      "metadata": {
        "id": "mA1JqbktaN0Z"
      }
    },
    {
      "cell_type": "markdown",
      "metadata": {
        "id": "50a7f520"
      },
      "source": [
        "Ans.\n",
        "\n",
        "* In Python, class methods and static methods are types of methods that are defined within a class but behave differently from regular instance methods. They are distinguished by their decorators: `@classmethod` and `@staticmethod`.\n",
        "\n",
        "* Here's a breakdown of each:\n",
        "\n",
        "**1. Instance Methods:**\n",
        "\n",
        "*   These are the most common type of methods in a class.\n",
        "*   They operate on an instance of the class.\n",
        "*   Their first parameter is conventionally `self`, which refers to the instance of the class.\n",
        "*   They can access and modify instance attributes and call other instance methods.\n",
        "\n",
        "* **2. Class Methods:**\n",
        "\n",
        "*   These methods are decorated with `@classmethod`.\n",
        "*   They receive the class itself as the first argument, conventionally named `cls`.\n",
        "*   They can access and modify class attributes.\n",
        "*   They can be called on both the class and instances of the class.\n",
        "*   Class methods are often used as alternative constructors, allowing you to create instances of the class in different ways.\n",
        "\n",
        "* **Example of a Class Method:**"
      ]
    },
    {
      "cell_type": "code",
      "metadata": {
        "id": "322329af"
      },
      "source": [
        "class MyClass:\n",
        "    class_variable = \"I am a class variable\"\n",
        "\n",
        "    @classmethod\n",
        "    def class_method(cls):\n",
        "        print(f\"This is a class method accessing class_attribute: {cls.class_variable}\")\n",
        "\n",
        "MyClass.class_method() # Called on the class"
      ],
      "execution_count": null,
      "outputs": []
    },
    {
      "cell_type": "markdown",
      "metadata": {
        "id": "3a1b9067"
      },
      "source": [
        "* **3. Static Methods:**\n",
        "\n",
        "*   These methods are decorated with `@staticmethod`.\n",
        "*   They do not receive an implicit first argument (neither `self` nor `cls`).\n",
        "*   They behave like regular functions but are logically grouped within a class.\n",
        "*   They cannot access or modify instance attributes or class attributes directly (unless passed as arguments).\n",
        "*   Static methods are typically used for utility functions that are related to the class but don't need access to specific instance or class data.\n",
        "\n",
        "* **Example of a Static Method:**"
      ]
    },
    {
      "cell_type": "code",
      "metadata": {
        "id": "d76ac7b1"
      },
      "source": [
        "class MyClass:\n",
        "    @staticmethod\n",
        "    def static_method(x, y):\n",
        "        return x + y\n",
        "\n",
        "print(MyClass.static_method(5, 3)) # Called on the class or an instance"
      ],
      "execution_count": null,
      "outputs": []
    },
    {
      "cell_type": "markdown",
      "source": [
        "Ques.23 How does polymorphism work in Python with inheritance ?"
      ],
      "metadata": {
        "id": "1h41uChPbKJD"
      }
    },
    {
      "cell_type": "markdown",
      "metadata": {
        "id": "5aa2f4c7"
      },
      "source": [
        "Ans.\n",
        "\n",
        "* In Python, polymorphism with inheritance is primarily achieved through **method overriding**. As we discussed earlier, method overriding allows a subclass to provide its own specific implementation of a method that is already defined in its superclass.\n",
        "\n",
        "* Here's how it works in the context of inheritance:\n",
        "\n",
        "1.  **Base Class:** You have a base class (superclass) that defines a method with a certain name and signature. This method provides a default or general behavior.\n",
        "\n",
        "2.  **Derived Classes:** You have one or more derived classes (subclasses) that inherit from the base class.\n",
        "\n",
        "3.  **Method Overriding:** In each derived class, you can redefine the method with the same name and signature as the one in the base class. The implementation in the derived class provides a specialized behavior for that specific type of object.\n",
        "\n",
        "4.  **Polymorphic Behavior:** When you have a collection or a variable that can hold objects of the base class or any of its derived classes, you can call the overridden method on these objects. Python's runtime will automatically determine the actual type of the object and execute the correct version of the method (the one defined in the object's specific class).\n",
        "\n",
        "* This allows you to treat objects of different but related types in a uniform way through a common interface (the method defined in the base class), while still getting the specific behavior of each derived class.\n"
      ]
    },
    {
      "cell_type": "markdown",
      "source": [
        "Ques.24  What is method chaining in Python OOP ?"
      ],
      "metadata": {
        "id": "zicmT__qbhuI"
      }
    },
    {
      "cell_type": "markdown",
      "metadata": {
        "id": "4c378eff"
      },
      "source": [
        "Ans.\n",
        "\n",
        "* **Method chaining** in Python OOP is a programming technique where you call multiple methods on an object in a single line of code, with each method returning the object itself. This allows you to perform a sequence of operations on an object in a concise and readable manner.\n",
        "\n",
        "* The key to method chaining is that each method in the chain must return the instance of the object (`self`). When a method returns `self`, you can immediately call another method of that same object on the result of the previous method call.\n",
        "\n",
        "* **How it Works:**\n",
        "\n",
        "* Consider a class with methods that modify the object's state or perform actions. If these methods are designed to return `self`, you can chain them together.\n",
        "\n",
        "* **Example:**\n",
        "\n",
        "* Let's say we  have a `Calculator` class with methods for adding, subtracting, and multiplying. If each of these methods returns the `Calculator` object, you can chain the operations:"
      ]
    },
    {
      "cell_type": "markdown",
      "source": [
        "Ques.25 What is the purpose of the __call__ method in Python ?"
      ],
      "metadata": {
        "id": "sEOay0cLcDWd"
      }
    },
    {
      "cell_type": "markdown",
      "metadata": {
        "id": "edf2b55c"
      },
      "source": [
        "Ans.\n",
        "\n",
        "* In Python, the `__call__` method is a special method that allows an instance of a class to be called like a function. If a class implements the `__call__` method, you can create an object of that class and then call the object directly, passing arguments to it just as you would with a regular function.\n",
        "\n",
        "* Here's the significance and purpose of the `__call__` method:\n",
        "\n",
        "1.  **Making Objects Callable:** The primary purpose of `__call__` is to make instances of your class \"callable.\" This means you can use the object with parentheses `()` like a function.\n",
        "\n",
        "2.  **Creating Function-like Objects:** It allows you to create objects that encapsulate both data (attributes) and behavior (the logic within `__call__`), which can then be used in contexts where a function is expected. This can make your code more organized and expressive.\n",
        "\n",
        "3.  **Stateful Functions:** Unlike regular functions (which are typically stateless), an object with a `__call__` method can maintain state through its attributes. This allows you to create \"stateful functions\" where the behavior of the call depends on the object's internal state.\n",
        "\n",
        "4.  **Decorators with Arguments:** The `__call__` method is commonly used when creating decorators that accept arguments. The decorator itself is often a class, and the instance of the class is called with the function to be decorated.\n",
        "\n",
        "5.  **Customizing Object Behavior:** It provides a way to customize the behavior of an object when it is called. You can define what happens when the object is invoked."
      ]
    },
    {
      "cell_type": "markdown",
      "source": [
        "# Practical Questions"
      ],
      "metadata": {
        "id": "FydTa89WcZLi"
      }
    },
    {
      "cell_type": "markdown",
      "source": [
        "Ques.1  Create a parent class Animal with a method speak() that prints a generic message. Create a child class Dog\n",
        "that overrides the speak() method to print \"Bark!\"."
      ],
      "metadata": {
        "id": "K5mwgzpRcfVQ"
      }
    },
    {
      "cell_type": "code",
      "metadata": {
        "id": "717d3e2b"
      },
      "source": [
        "class Animal:\n",
        "    def speak(self):\n",
        "        print(\"Generic animal sound\")\n",
        "\n",
        "class Dog(Animal):\n",
        "    def speak(self):\n",
        "        print(\"Bark!\")\n",
        "\n",
        "# Create instances of the classes\n",
        "animal = Animal()\n",
        "dog = Dog()\n",
        "\n",
        "# Call the speak() method on each instance\n",
        "animal.speak()\n",
        "dog.speak()"
      ],
      "execution_count": null,
      "outputs": []
    },
    {
      "cell_type": "markdown",
      "source": [
        "Ques.2 . Write a program to create an abstract class Shape with a method area(). Derive classes Circle and Rectangle\n",
        "from it and implement the area() method in both."
      ],
      "metadata": {
        "id": "Z7h-ycOQczJ4"
      }
    },
    {
      "cell_type": "code",
      "metadata": {
        "id": "13852478"
      },
      "source": [
        "from abc import ABC, abstractmethod\n",
        "import math\n",
        "\n",
        "class Shape(ABC):\n",
        "    @abstractmethod\n",
        "    def area(self):\n",
        "        pass\n",
        "\n",
        "class Circle(Shape):\n",
        "    def __init__(self, radius):\n",
        "        self.radius = radius\n",
        "\n",
        "    def area(self):\n",
        "        return math.pi * self.radius**2\n",
        "\n",
        "class Rectangle(Shape):\n",
        "    def __init__(self, length, width):\n",
        "        self.length = length\n",
        "        self.width = width\n",
        "\n",
        "    def area(self):\n",
        "        return self.length * self.width\n",
        "\n",
        "# Example usage:\n",
        "# You cannot instantiate an abstract class directly:\n",
        "# shape = Shape() # This would raise a TypeError\n",
        "\n",
        "circle = Circle(5)\n",
        "rectangle = Rectangle(4, 6)\n",
        "\n",
        "print(f\"Area of Circle: {circle.area()}\")\n",
        "print(f\"Area of Rectangle: {rectangle.area()}\")"
      ],
      "execution_count": null,
      "outputs": []
    },
    {
      "cell_type": "markdown",
      "source": [
        "Ques.3 Implement a multi-level inheritance scenario where a class Vehicle has an attribute type. Derive a class Car\n",
        "and further derive a class ElectricCar that adds a battery attribute"
      ],
      "metadata": {
        "id": "d8F3H-TXdAuz"
      }
    },
    {
      "cell_type": "code",
      "metadata": {
        "id": "8d540479"
      },
      "source": [
        "class Vehicle:\n",
        "    def __init__(self, vehicle_type):\n",
        "        self.type = vehicle_type\n",
        "        print(f\"Vehicle created with type: {self.type}\")\n",
        "\n",
        "class Car(Vehicle):\n",
        "    def __init__(self, car_type, model):\n",
        "        super().__init__(car_type)\n",
        "        self.model = model\n",
        "        print(f\"Car created: {self.model} ({self.type})\")\n",
        "\n",
        "class ElectricCar(Car):\n",
        "    def __init__(self, car_type, model, battery_size):\n",
        "        super().__init__(car_type, model)\n",
        "        self.battery = battery_size\n",
        "        print(f\"Electric Car created: {self.model} ({self.type}) with battery size {self.battery} kWh\")\n",
        "\n",
        "# Example usage:\n",
        "my_electric_car = ElectricCar(\"Electric Car\", \"Model S\", 100)\n",
        "\n",
        "print(f\"Type: {my_electric_car.type}\")\n",
        "print(f\"Model: {my_electric_car.model}\")\n",
        "print(f\"Battery Size: {my_electric_car.battery} kWh\")"
      ],
      "execution_count": null,
      "outputs": []
    },
    {
      "cell_type": "markdown",
      "source": [
        "Ques.4  Demonstrate polymorphism by creating a base class Bird with a method fly(). Create two derived classes\n",
        "Sparrow and Penguin that override the fly() method.\n"
      ],
      "metadata": {
        "id": "9nDaARODdNPk"
      }
    },
    {
      "cell_type": "code",
      "metadata": {
        "id": "11ae6d8a"
      },
      "source": [
        "class Bird:\n",
        "    def fly(self):\n",
        "        print(\"Most birds can fly\")\n",
        "\n",
        "class Sparrow(Bird):\n",
        "    def fly(self):\n",
        "        print(\"Sparrows can fly short distances\")\n",
        "\n",
        "class Penguin(Bird):\n",
        "    def fly(self):\n",
        "        print(\"Penguins cannot fly, but they can swim!\")\n",
        "\n",
        "# Demonstrate polymorphism\n",
        "def bird_flying_demo(bird):\n",
        "    bird.fly()\n",
        "\n",
        "# Create instances of the derived classes\n",
        "sparrow = Sparrow()\n",
        "penguin = Penguin()\n",
        "\n",
        "# Call the function with different bird types\n",
        "bird_flying_demo(sparrow)\n",
        "bird_flying_demo(penguin)"
      ],
      "execution_count": null,
      "outputs": []
    },
    {
      "cell_type": "markdown",
      "source": [
        "Ques.5  Write a program to demonstrate encapsulation by creating a class BankAccount with private attributes\n",
        "balance and methods to deposit, withdraw, and check balance."
      ],
      "metadata": {
        "id": "n9uXhg43dYbH"
      }
    },
    {
      "cell_type": "code",
      "metadata": {
        "id": "6eb5da91"
      },
      "source": [
        "class BankAccount:\n",
        "    def __init__(self):\n",
        "        self.__balance = 0  # Private attribute using name mangling\n",
        "\n",
        "    def deposit(self, amount):\n",
        "        if amount > 0:\n",
        "            self.__balance += amount\n",
        "            print(f\"Deposited: ${amount}. New balance: ${self.__balance}\")\n",
        "        else:\n",
        "            print(\"Deposit amount must be positive.\")\n",
        "\n",
        "    def withdraw(self, amount):\n",
        "        if amount > 0:\n",
        "            if self.__balance >= amount:\n",
        "                self.__balance -= amount\n",
        "                print(f\"Withdrew: ${amount}. New balance: ${self.__balance}\")\n",
        "            else:\n",
        "                print(\"Insufficient funds.\")\n",
        "        else:\n",
        "            print(\"Withdrawal amount must be positive.\")\n",
        "\n",
        "    def get_balance(self):\n",
        "        return self.__balance\n",
        "\n",
        "# Example usage:\n",
        "account = BankAccount()\n",
        "\n",
        "account.deposit(1000)\n",
        "account.withdraw(500)\n",
        "account.withdraw(700) # Insufficient funds\n",
        "print(f\"Current balance: ${account.get_balance()}\")\n",
        "\n",
        "# Attempting to access the private attribute directly will result in an AttributeError\n",
        "# print(account.__balance) # This would cause an error"
      ],
      "execution_count": null,
      "outputs": []
    },
    {
      "cell_type": "markdown",
      "source": [
        "Ques.6  Demonstrate runtime polymorphism using a method play() in a base class Instrument. Derive classes Guitar\n",
        "and Piano that implement their own version of play()."
      ],
      "metadata": {
        "id": "9FbXMYKydjbs"
      }
    },
    {
      "cell_type": "code",
      "metadata": {
        "id": "f14b2e23"
      },
      "source": [
        "class Instrument:\n",
        "    def play(self):\n",
        "        print(\"Playing a generic instrument sound\")\n",
        "\n",
        "class Guitar(Instrument):\n",
        "    def play(self):\n",
        "        print(\"Strumming the guitar\")\n",
        "\n",
        "class Piano(Instrument):\n",
        "    def play(self):\n",
        "        print(\"Playing the piano keys\")\n",
        "\n",
        "# Demonstrate runtime polymorphism\n",
        "def make_instrument_play(instrument):\n",
        "    instrument.play()\n",
        "\n",
        "# Create instances of the derived classes\n",
        "guitar = Guitar()\n",
        "piano = Piano()\n",
        "\n",
        "# Call the function with different instrument types\n",
        "make_instrument_play(guitar)\n",
        "make_instrument_play(piano)"
      ],
      "execution_count": null,
      "outputs": []
    },
    {
      "cell_type": "markdown",
      "source": [
        "Ques.7 . Create a class MathOperations with a class method add_numbers() to add two numbers and a static\n",
        "method subtract_numbers() to subtract two numbers"
      ],
      "metadata": {
        "id": "_k5ysa_nduX1"
      }
    },
    {
      "cell_type": "code",
      "metadata": {
        "id": "1676608d"
      },
      "source": [
        "class MathOperations:\n",
        "    @classmethod\n",
        "    def add_numbers(cls, x, y):\n",
        "        \"\"\"Class method to add two numbers.\"\"\"\n",
        "        print(f\"Using class method to add {x} and {y}\")\n",
        "        return x + y\n",
        "\n",
        "    @staticmethod\n",
        "    def subtract_numbers(x, y):\n",
        "        \"\"\"Static method to subtract two numbers.\"\"\"\n",
        "        print(f\"Using static method to subtract {y} from {x}\")\n",
        "        return x - y\n",
        "\n",
        "# Using the class method\n",
        "sum_result = MathOperations.add_numbers(10, 5)\n",
        "print(f\"Sum: {sum_result}\")\n",
        "\n",
        "# Using the static method\n",
        "difference_result = MathOperations.subtract_numbers(10, 5)\n",
        "print(f\"Difference: {difference_result}\")"
      ],
      "execution_count": null,
      "outputs": []
    },
    {
      "cell_type": "markdown",
      "source": [
        "Ques.8 Implement a class Person with a class method to count the total number of persons created"
      ],
      "metadata": {
        "id": "VSSW-UlRd6Kb"
      }
    },
    {
      "cell_type": "code",
      "metadata": {
        "id": "c2f0d7d7"
      },
      "source": [
        "class Person:\n",
        "    total_persons = 0  # Class variable to keep track of the count\n",
        "\n",
        "    def __init__(self, name):\n",
        "        self.name = name\n",
        "        Person.total_persons += 1  # Increment the class variable when a new instance is created\n",
        "        print(f\"Person '{self.name}' created.\")\n",
        "\n",
        "    @classmethod\n",
        "    def get_total_persons(cls):\n",
        "        \"\"\"Class method to get the total number of persons created.\"\"\"\n",
        "        return cls.total_persons\n",
        "\n",
        "# Creating instances of the Person class\n",
        "person1 = Person(\"Alice\")\n",
        "person2 = Person(\"Bob\")\n",
        "person3 = Person(\"Charlie\")\n",
        "\n",
        "# Using the class method to get the total count\n",
        "print(f\"Total number of persons created: {Person.get_total_persons()}\")"
      ],
      "execution_count": null,
      "outputs": []
    },
    {
      "cell_type": "markdown",
      "source": [
        "Ques.9 . Write a class Fraction with attributes numerator and denominator. Override the str method to display the\n",
        "fraction as \"numerator/denominator"
      ],
      "metadata": {
        "id": "gRgnSXqyeIZ_"
      }
    },
    {
      "cell_type": "code",
      "metadata": {
        "id": "cb89a36b"
      },
      "source": [
        "class Fraction:\n",
        "    def __init__(self, numerator, denominator):\n",
        "        self.numerator = numerator\n",
        "        self.denominator = denominator\n",
        "\n",
        "    def __str__(self):\n",
        "        return f\"{self.numerator}/{self.denominator}\"\n",
        "\n",
        "# Example usage:\n",
        "fraction1 = Fraction(3, 4)\n",
        "fraction2 = Fraction(1, 2)\n",
        "\n",
        "print(fraction1)\n",
        "print(fraction2)"
      ],
      "execution_count": null,
      "outputs": []
    },
    {
      "cell_type": "markdown",
      "source": [
        "Ques.10  Demonstrate operator overloading by creating a class Vector and overriding the add method to add two\n",
        "vectors."
      ],
      "metadata": {
        "id": "Ot8uPMlzeUZG"
      }
    },
    {
      "cell_type": "code",
      "metadata": {
        "id": "57b30d3c"
      },
      "source": [
        "class Vector:\n",
        "    def __init__(self, x, y):\n",
        "        self.x = x\n",
        "        self.y = y\n",
        "\n",
        "    def __str__(self):\n",
        "        return f\"Vector({self.x}, {self.y})\"\n",
        "\n",
        "    def __add__(self, other):\n",
        "        if isinstance(other, Vector):\n",
        "            return Vector(self.x + other.x, self.y + other.y)\n",
        "        else:\n",
        "            raise TypeError(\"Can only add a Vector object to another Vector object\")\n",
        "\n",
        "# Example usage:\n",
        "vector1 = Vector(2, 3)\n",
        "vector2 = Vector(1, 4)\n",
        "\n",
        "vector3 = vector1 + vector2 # This calls the __add__ method\n",
        "\n",
        "print(f\"{vector1} + {vector2} = {vector3}\")\n",
        "\n",
        "# Attempting to add a Vector and a non-Vector will raise a TypeError\n",
        "# result = vector1 + 5"
      ],
      "execution_count": null,
      "outputs": []
    },
    {
      "cell_type": "markdown",
      "source": [
        "Ques.11  Create a class Person with attributes name and age. Add a method greet() that prints \"Hello, my name is\n",
        "{name} and I am {age} years old.\""
      ],
      "metadata": {
        "id": "KfxnsQoOejf6"
      }
    },
    {
      "cell_type": "code",
      "metadata": {
        "id": "78fb69bd"
      },
      "source": [
        "class Person:\n",
        "    def __init__(self, name, age):\n",
        "        self.name = name\n",
        "        self.age = age\n",
        "\n",
        "    def greet(self):\n",
        "        print(f\"Hello, my name is {self.name} and I am {self.age} years old.\")\n",
        "\n",
        "# Example usage:\n",
        "person1 = Person(\"Alice\", 30)\n",
        "person1.greet()\n",
        "\n",
        "person2 = Person(\"Bob\", 25)\n",
        "person2.greet()"
      ],
      "execution_count": null,
      "outputs": []
    },
    {
      "cell_type": "markdown",
      "source": [
        "Ques.12  Implement a class Student with attributes name and grades. Create a method average_grade() to compute\n",
        "the average of the grades."
      ],
      "metadata": {
        "id": "SS4MAzGge89T"
      }
    },
    {
      "cell_type": "code",
      "metadata": {
        "id": "53f09620"
      },
      "source": [
        "class Student:\n",
        "    def __init__(self, name, grades):\n",
        "        self.name = name\n",
        "        self.grades = grades  # Assuming grades is a list of numbers\n",
        "\n",
        "    def average_grade(self):\n",
        "        if not self.grades:  # Check if the grades list is not empty\n",
        "            return 0\n",
        "        return sum(self.grades) / len(self.grades)\n",
        "\n",
        "# Example usage:\n",
        "student1 = Student(\"Alice\", [85, 90, 78, 92])\n",
        "student2 = Student(\"Bob\", [70, 75, 88])\n",
        "\n",
        "print(f\"{student1.name}'s average grade: {student1.average_grade()}\")\n",
        "print(f\"{student2.name}'s average grade: {student2.average_grade()}\")\n",
        "\n",
        "# Example with no grades\n",
        "student3 = Student(\"Charlie\", [])\n",
        "print(f\"{student3.name}'s average grade: {student3.average_grade()}\")"
      ],
      "execution_count": null,
      "outputs": []
    },
    {
      "cell_type": "markdown",
      "source": [
        "Ques.13  Create a class Rectangle with methods set_dimensions() to set the dimensions and area() to calculate the\n",
        "area."
      ],
      "metadata": {
        "id": "DEfwvE7FfJpp"
      }
    },
    {
      "cell_type": "code",
      "metadata": {
        "id": "e328ced4"
      },
      "source": [
        "class Rectangle:\n",
        "    def __init__(self, length=0, width=0):\n",
        "        self.length = length\n",
        "        self.width = width\n",
        "\n",
        "    def set_dimensions(self, length, width):\n",
        "        \"\"\"Sets the length and width of the rectangle.\"\"\"\n",
        "        if length >= 0 and width >= 0:\n",
        "            self.length = length\n",
        "            self.width = width\n",
        "        else:\n",
        "            print(\"Dimensions must be non-negative.\")\n",
        "\n",
        "    def area(self):\n",
        "        \"\"\"Calculates the area of the rectangle.\"\"\"\n",
        "        return self.length * self.width\n",
        "\n",
        "# Example usage:\n",
        "rectangle1 = Rectangle()\n",
        "print(f\"Initial area: {rectangle1.area()}\")\n",
        "\n",
        "rectangle1.set_dimensions(5, 10)\n",
        "print(f\"Area after setting dimensions: {rectangle1.area()}\")\n",
        "\n",
        "rectangle2 = Rectangle(3, 7)\n",
        "print(f\"Area of rectangle2: {rectangle2.area()}\")\n",
        "\n",
        "rectangle1.set_dimensions(-2, 5) # Example of invalid input\n",
        "print(f\"Area after invalid input attempt: {rectangle1.area()}\") # Area should remain the same"
      ],
      "execution_count": null,
      "outputs": []
    },
    {
      "cell_type": "markdown",
      "source": [
        "Ques.14  Create a class Employee with a method calculate_salary() that computes the salary based on hours worked\n",
        "and hourly rate. Create a derived class Manager that adds a bonus to the salary."
      ],
      "metadata": {
        "id": "kIa3B2fsfWYp"
      }
    },
    {
      "cell_type": "code",
      "metadata": {
        "id": "f9a836df"
      },
      "source": [
        "class Employee:\n",
        "    def __init__(self, hours_worked, hourly_rate):\n",
        "        self.hours_worked = hours_worked\n",
        "        self.hourly_rate = hourly_rate\n",
        "\n",
        "    def calculate_salary(self):\n",
        "        \"\"\"Computes the salary based on hours worked and hourly rate.\"\"\"\n",
        "        return self.hours_worked * self.hourly_rate\n",
        "\n",
        "class Manager(Employee):\n",
        "    def __init__(self, hours_worked, hourly_rate, bonus):\n",
        "        super().__init__(hours_worked, hourly_rate)\n",
        "        self.bonus = bonus\n",
        "\n",
        "    def calculate_salary(self):\n",
        "        \"\"\"Computes the salary including the bonus.\"\"\"\n",
        "        base_salary = super().calculate_salary()\n",
        "        return base_salary + self.bonus\n",
        "\n",
        "# Example usage:\n",
        "employee = Employee(40, 20)\n",
        "print(f\"Employee Salary: ${employee.calculate_salary()}\")\n",
        "\n",
        "manager = Manager(40, 20, 500)\n",
        "print(f\"Manager Salary: ${manager.calculate_salary()}\")"
      ],
      "execution_count": null,
      "outputs": []
    },
    {
      "cell_type": "markdown",
      "source": [
        "Ques.15 . Create a class Product with attributes name, price, and quantity. Implement a method total_price() that\n",
        "calculates the total price of the product"
      ],
      "metadata": {
        "id": "D-CQEvCIfi7h"
      }
    },
    {
      "cell_type": "code",
      "metadata": {
        "id": "8fdefa86"
      },
      "source": [
        "class Product:\n",
        "    def __init__(self, name, price, quantity):\n",
        "        self.name = name\n",
        "        self.price = price\n",
        "        self.quantity = quantity\n",
        "\n",
        "    def total_price(self):\n",
        "        \"\"\"Calculates the total price of the product.\"\"\"\n",
        "        return self.price * self.quantity\n",
        "\n",
        "# Example usage:\n",
        "product1 = Product(\"Laptop\", 1200, 1)\n",
        "product2 = Product(\"Mouse\", 25, 5)\n",
        "\n",
        "print(f\"{product1.name} total price: ${product1.total_price()}\")\n",
        "print(f\"{product2.name} total price: ${product2.total_price()}\")"
      ],
      "execution_count": null,
      "outputs": []
    },
    {
      "cell_type": "markdown",
      "source": [
        "Ques.16 . Create a class Animal with an abstract method sound(). Create two derived classes Cow and Sheep that\n",
        "implement the sound() method."
      ],
      "metadata": {
        "id": "Yt8L1mKDfxhV"
      }
    },
    {
      "cell_type": "code",
      "metadata": {
        "id": "c6d5bcb2"
      },
      "source": [
        "from abc import ABC, abstractmethod\n",
        "\n",
        "class Animal(ABC):\n",
        "    @abstractmethod\n",
        "    def sound(self):\n",
        "        pass\n",
        "\n",
        "class Cow(Animal):\n",
        "    def sound(self):\n",
        "        return \"Moo!\"\n",
        "\n",
        "class Sheep(Animal):\n",
        "    def sound(self):\n",
        "        return \"Baa!\"\n",
        "\n",
        "# Example usage:\n",
        "# You cannot instantiate an abstract class directly:\n",
        "# animal = Animal() # This would raise a TypeError\n",
        "\n",
        "cow = Cow()\n",
        "sheep = Sheep()\n",
        "\n",
        "print(f\"Cow sound: {cow.sound()}\")\n",
        "print(f\"Sheep sound: {sheep.sound()}\")"
      ],
      "execution_count": null,
      "outputs": []
    },
    {
      "cell_type": "markdown",
      "source": [
        "Qus.17  Create a class Book with attributes title, author, and year_published. Add a method get_book_info() that\n",
        "returns a formatted string with the book's details."
      ],
      "metadata": {
        "id": "UsmTON44gDak"
      }
    },
    {
      "cell_type": "code",
      "metadata": {
        "id": "726a381b"
      },
      "source": [
        "class Book:\n",
        "    def __init__(self, title, author, year_published):\n",
        "        self.title = title\n",
        "        self.author = author\n",
        "        self.year_published = year_published\n",
        "\n",
        "    def get_book_info(self):\n",
        "        \"\"\"Returns a formatted string with the book's details.\"\"\"\n",
        "        return f\"'{self.title}' by {self.author} ({self.year_published})\"\n",
        "\n",
        "# Example usage:\n",
        "book1 = Book(\"The Hitchhiker's Guide to the Galaxy\", \"Douglas Adams\", 1979)\n",
        "book2 = Book(\"Pride and Prejudice\", \"Jane Austen\", 1813)\n",
        "\n",
        "print(book1.get_book_info())\n",
        "print(book2.get_book_info())"
      ],
      "execution_count": null,
      "outputs": []
    },
    {
      "cell_type": "markdown",
      "source": [
        "Ques.18 . Create a class House with attributes address and price. Create a derived class Mansion that adds an\n",
        "attribute number_of_rooms."
      ],
      "metadata": {
        "id": "Uh2TreyrgPpo"
      }
    },
    {
      "cell_type": "code",
      "metadata": {
        "id": "d4f4ed8b"
      },
      "source": [
        "class House:\n",
        "    def __init__(self, address, price):\n",
        "        self.address = address\n",
        "        self.price = price\n",
        "        print(f\"House created at {self.address} with price ${self.price}\")\n",
        "\n",
        "class Mansion(House):\n",
        "    def __init__(self, address, price, number_of_rooms):\n",
        "        super().__init__(address, price)\n",
        "        self.number_of_rooms = number_of_rooms\n",
        "        print(f\"Mansion created at {self.address} with {self.number_of_rooms} rooms and price ${self.price}\")\n",
        "\n",
        "# Example usage:\n",
        "my_house = House(\"123 Main St\", 300000)\n",
        "my_mansion = Mansion(\"456 Oak Ave\", 1500000, 20)\n",
        "\n",
        "print(f\"House Address: {my_house.address}, Price: ${my_house.price}\")\n",
        "print(f\"Mansion Address: {my_mansion.address}, Price: ${my_mansion.price}, Rooms: {my_mansion.number_of_rooms}\")"
      ],
      "execution_count": null,
      "outputs": []
    }
  ]
}